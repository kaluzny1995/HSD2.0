{
 "cells": [
  {
   "cell_type": "markdown",
   "metadata": {},
   "source": [
    "# Hate Speech Detector 2.0\n",
    "---\n",
    "**Lexical text classifier**\n",
    "1. Load sanitized tweets data about polish courts.\n",
    "2. Lemmatize loaded tweets.\n",
    "3. Load PAC scores for tweets from appropriate .csv file.\n",
    "4. Find optimal thresholding values of above measures calculating classification accuracy (and other) as a quality score.\n",
    "5. Visualize results.\n",
    "6. Perform some test on independent sanitized tweets about polish courts."
   ]
  },
  {
   "cell_type": "code",
   "execution_count": 2,
   "metadata": {},
   "outputs": [],
   "source": [
    "import os\n",
    "import csv\n",
    "\n",
    "import numpy as np\n",
    "import pandas as pd\n",
    "\n",
    "from sklearn.metrics import accuracy_score, f1_score, confusion_matrix\n",
    "\n",
    "from combo.predict import COMBO\n",
    "import itertools\n",
    "\n",
    "import matplotlib.pyplot as plt\n",
    "from matplotlib.lines import Line2D\n",
    "from tqdm.notebook import tqdm"
   ]
  },
  {
   "cell_type": "code",
   "execution_count": 8,
   "metadata": {},
   "outputs": [],
   "source": [
    "LABELS = ['wyzywanie', 'grożenie', 'wykluczanie', 'odczłowieczanie', 'poniżanie', 'stygmatyzacja', 'szantaż']\n",
    "LABELS_SMALL = ['wyz', 'groz', 'wyk', 'odcz', 'pon', 'styg', 'szan']\n",
    "SCORE_TYPES = ['min', 'mean', 'max']\n",
    "\n",
    "HATEFUL_EXT_DIR = 'data/hateful/ext_{}.txt'\n",
    "VULGARS_EXT_DIR = 'data/vulgars/ext_{}.txt'\n",
    "\n",
    "DUPLICATED_PATH = 'data/tweets_sady/processed/sady_duplicated.csv'\n",
    "POC_SCORES_PATH = 'data/tweets_sady/processed/poc_scores.csv'\n",
    "\n",
    "TAGGER_MODEL = 'polish-herbert-base'"
   ]
  },
  {
   "cell_type": "code",
   "execution_count": null,
   "metadata": {},
   "outputs": [],
   "source": [
    "plt.style.use('ggplot')"
   ]
  },
  {
   "cell_type": "markdown",
   "metadata": {},
   "source": [
    "**Polish stopwords**"
   ]
  },
  {
   "cell_type": "code",
   "execution_count": 3,
   "metadata": {},
   "outputs": [
    {
     "data": {
      "text/plain": [
       "['a', 'aby', 'ach', 'acz', 'aczkolwiek', 'aj', 'albo', 'ale', 'alez', 'ależ']"
      ]
     },
     "execution_count": 3,
     "metadata": {},
     "output_type": "execute_result"
    }
   ],
   "source": [
    "with open('data/other/polish_stopwords.txt', 'r') as f:\n",
    "    polish_stopwords = f.read().split('\\n')[:-1]\n",
    "polish_stopwords[:10]"
   ]
  },
  {
   "cell_type": "markdown",
   "metadata": {},
   "source": [
    "## Data loading"
   ]
  },
  {
   "cell_type": "markdown",
   "metadata": {},
   "source": [
    "### Classes"
   ]
  },
  {
   "cell_type": "code",
   "execution_count": null,
   "metadata": {},
   "outputs": [],
   "source": [
    "df_classes = pd.read_csv(DUPLICATED_PATH)[LABELS]\n",
    "df_classes.head(2)"
   ]
  },
  {
   "cell_type": "markdown",
   "metadata": {},
   "source": [
    "### Lemmatized tweets"
   ]
  },
  {
   "cell_type": "raw",
   "metadata": {},
   "source": [
    "tagger = COMBO.from_pretrained(TAGGER_MODEL)"
   ]
  },
  {
   "cell_type": "raw",
   "metadata": {},
   "source": [
    "def lemmatize_text(text):\n",
    "    text = text.replace('#', '').replace('[...]', '')\n",
    "    sentence = tagger(text)\n",
    "\n",
    "    lemmas = [token.lemma.lower() for token in sentence.tokens if token.deprel != 'punct']\n",
    "    lemm_text = ' '.join(lemmas)\n",
    "\n",
    "    return lemm_text"
   ]
  },
  {
   "cell_type": "markdown",
   "metadata": {},
   "source": [
    "### Extended hateful phrases"
   ]
  },
  {
   "cell_type": "code",
   "execution_count": 9,
   "metadata": {},
   "outputs": [],
   "source": [
    "def load_ext_phrases(load_vulg=False):\n",
    "    aphr = list([])\n",
    "    for label in LABELS_SMALL:\n",
    "        with open(HATEFUL_EXT_DIR.replace('{}', label), 'r') as f:\n",
    "            aphr.append(np.array(f.read().split(';')))\n",
    "    if load_vulg:\n",
    "        with open(VULGARS_EXT_DIR.replace('{}', LABELS_V_SMALL[-1]), 'r') as f:\n",
    "            aphr.append(np.array(f.read().split(';')))\n",
    "\n",
    "    return np.array(aphr)\n",
    "\n",
    "ext_phrases = load_ext_phrases()\n",
    "ext_phrases[0][:5]"
   ]
  },
  {
   "cell_type": "markdown",
   "metadata": {},
   "source": [
    "### Tweet POC scores for each class"
   ]
  },
  {
   "cell_type": "raw",
   "metadata": {},
   "source": [
    "def POC(text, phrase, lemmatized=False, stopwords=[]):\n",
    "\n",
    "    t = text if lemmatized else lemmatize_text(text)\n",
    "    p = phrase if lemmatized else lemmatize_text(phrase)\n",
    "\n",
    "    t_words = list(filter(lambda x: x not in stopwords, t.split(' ')))\n",
    "    p_words = list(filter(lambda x: x not in stopwords, p.split(' ')))\n",
    "\n",
    "    assert (len(t_words) > 0), 'The examined text must have at least one non-stopword word!'\n",
    "\n",
    "    if len(p_words) > 1:\n",
    "        occurences = list([[i for i, x in enumerate(t_words) if x == p_w] for p_w in p_words])\n",
    "        occurences = list([o for o in occurences if len(o) > 0])\n",
    "\n",
    "        orders = list(itertools.product(*occurences))\n",
    "        order_pairs_list = list([[tuple((o[i], o[i+1])) for i, oi in enumerate(o[:-1])] for o in orders])\n",
    "\n",
    "        coeffs = list([sum([1. if op[0]<op[1] else -1. for op in ops] ) /(len(p_words) - 1)\n",
    "                       for ops in order_pairs_list])\n",
    "\n",
    "        return (np.min(coeffs), np.mean(coeffs), np.max(coeffs))\n",
    "    elif len(p_words) == 1:\n",
    "        return (1., 1., 1.) if p_words[0] in t_words else (0., 0., 0.)\n",
    "    else:\n",
    "        return (0., 0., 0.)"
   ]
  },
  {
   "cell_type": "code",
   "execution_count": 13,
   "metadata": {},
   "outputs": [
    {
     "data": {
      "text/html": [
       "<div>\n",
       "<style scoped>\n",
       "    .dataframe tbody tr th:only-of-type {\n",
       "        vertical-align: middle;\n",
       "    }\n",
       "\n",
       "    .dataframe tbody tr th {\n",
       "        vertical-align: top;\n",
       "    }\n",
       "\n",
       "    .dataframe thead th {\n",
       "        text-align: right;\n",
       "    }\n",
       "</style>\n",
       "<table border=\"1\" class=\"dataframe\">\n",
       "  <thead>\n",
       "    <tr style=\"text-align: right;\">\n",
       "      <th></th>\n",
       "      <th>id</th>\n",
       "      <th>tweet</th>\n",
       "      <th>wyz_PAC_min</th>\n",
       "      <th>wyz_PAC_mean</th>\n",
       "      <th>wyz_PAC_max</th>\n",
       "      <th>wyz_label</th>\n",
       "      <th>groz_PAC_min</th>\n",
       "      <th>groz_PAC_mean</th>\n",
       "      <th>groz_PAC_max</th>\n",
       "      <th>groz_label</th>\n",
       "      <th>...</th>\n",
       "      <th>pon_PAC_max</th>\n",
       "      <th>pon_label</th>\n",
       "      <th>styg_PAC_min</th>\n",
       "      <th>styg_PAC_mean</th>\n",
       "      <th>styg_PAC_max</th>\n",
       "      <th>styg_label</th>\n",
       "      <th>szan_PAC_min</th>\n",
       "      <th>szan_PAC_mean</th>\n",
       "      <th>szan_PAC_max</th>\n",
       "      <th>szan_label</th>\n",
       "    </tr>\n",
       "  </thead>\n",
       "  <tbody>\n",
       "    <tr>\n",
       "      <th>0</th>\n",
       "      <td>0</td>\n",
       "      <td>Dokładnie! Dlatego trzeba komuchów gonić prze...</td>\n",
       "      <td>-1.0</td>\n",
       "      <td>0.002574</td>\n",
       "      <td>1.0</td>\n",
       "      <td>1</td>\n",
       "      <td>-0.500000</td>\n",
       "      <td>-0.003554</td>\n",
       "      <td>0.00</td>\n",
       "      <td>0</td>\n",
       "      <td>...</td>\n",
       "      <td>0.250000</td>\n",
       "      <td>0</td>\n",
       "      <td>-0.5</td>\n",
       "      <td>0.000698</td>\n",
       "      <td>0.5</td>\n",
       "      <td>0</td>\n",
       "      <td>0.0</td>\n",
       "      <td>0.0</td>\n",
       "      <td>0.0</td>\n",
       "      <td>0</td>\n",
       "    </tr>\n",
       "    <tr>\n",
       "      <th>1</th>\n",
       "      <td>1</td>\n",
       "      <td>Polska Polityka: Sądy bardziej bezkarne niż w ...</td>\n",
       "      <td>0.0</td>\n",
       "      <td>0.000000</td>\n",
       "      <td>0.0</td>\n",
       "      <td>0</td>\n",
       "      <td>-0.333333</td>\n",
       "      <td>-0.000708</td>\n",
       "      <td>0.25</td>\n",
       "      <td>0</td>\n",
       "      <td>...</td>\n",
       "      <td>0.333333</td>\n",
       "      <td>0</td>\n",
       "      <td>-0.5</td>\n",
       "      <td>0.000097</td>\n",
       "      <td>0.5</td>\n",
       "      <td>0</td>\n",
       "      <td>0.0</td>\n",
       "      <td>0.0</td>\n",
       "      <td>0.0</td>\n",
       "      <td>0</td>\n",
       "    </tr>\n",
       "  </tbody>\n",
       "</table>\n",
       "<p>2 rows × 30 columns</p>\n",
       "</div>"
      ],
      "text/plain": [
       "   id                                              tweet  wyz_PAC_min  \\\n",
       "0   0   Dokładnie! Dlatego trzeba komuchów gonić prze...         -1.0   \n",
       "1   1  Polska Polityka: Sądy bardziej bezkarne niż w ...          0.0   \n",
       "\n",
       "   wyz_PAC_mean  wyz_PAC_max  wyz_label  groz_PAC_min  groz_PAC_mean  \\\n",
       "0      0.002574          1.0          1     -0.500000      -0.003554   \n",
       "1      0.000000          0.0          0     -0.333333      -0.000708   \n",
       "\n",
       "   groz_PAC_max  groz_label  ...  pon_PAC_max  pon_label  styg_PAC_min  \\\n",
       "0          0.00           0  ...     0.250000          0          -0.5   \n",
       "1          0.25           0  ...     0.333333          0          -0.5   \n",
       "\n",
       "   styg_PAC_mean  styg_PAC_max  styg_label  szan_PAC_min  szan_PAC_mean  \\\n",
       "0       0.000698           0.5           0           0.0            0.0   \n",
       "1       0.000097           0.5           0           0.0            0.0   \n",
       "\n",
       "   szan_PAC_max  szan_label  \n",
       "0           0.0           0  \n",
       "1           0.0           0  \n",
       "\n",
       "[2 rows x 30 columns]"
      ]
     },
     "execution_count": 13,
     "metadata": {},
     "output_type": "execute_result"
    }
   ],
   "source": [
    "df_poc_scores = pd.read_csv(POC_SCORES_PATH)\n",
    "df_poc_scores.head(2)"
   ]
  },
  {
   "cell_type": "markdown",
   "metadata": {},
   "source": [
    "### Combined data"
   ]
  },
  {
   "cell_type": "code",
   "execution_count": null,
   "metadata": {},
   "outputs": [],
   "source": [
    "def combine_row_wisely(dfs):\n",
    "    it = iter(dfs)\n",
    "    length = len(next(it))\n",
    "    if not all(len(l) == length for l in it):\n",
    "        raise ValueError('Not all dataframes have the same length!')\n",
    "    \n",
    "    return pd.concat(dfs, axis=1)\n",
    "\n",
    "def shuffle_dataframe(df):\n",
    "    return df.sample(frac=1)\n",
    "\n",
    "df_data = combine_row_wisely([df_poc_scores, df_classes])\n",
    "df_data = shuffle_dataframe(df_data)\n",
    "df_data.head(2)"
   ]
  },
  {
   "cell_type": "markdown",
   "metadata": {},
   "source": [
    "## Optimal threshold values for min, mean and max POC"
   ]
  },
  {
   "cell_type": "markdown",
   "metadata": {},
   "source": [
    "Perform k-fold cross-validation. Assume k value. Find the best train-test split."
   ]
  },
  {
   "cell_type": "code",
   "execution_count": null,
   "metadata": {},
   "outputs": [],
   "source": [
    "# in Python code"
   ]
  },
  {
   "cell_type": "markdown",
   "metadata": {},
   "source": [
    "List all **distinct values** of **POC** scores for min, mean and max (as **threshold**), then predict label (if score is greater than of equals examined threshold then it is positive) and calculate **f measures** for **negative and positive** examples."
   ]
  },
  {
   "cell_type": "code",
   "execution_count": 14,
   "metadata": {},
   "outputs": [
    {
     "data": {
      "application/vnd.jupyter.widget-view+json": {
       "model_id": "5848dfe27e8545c5ae92a149308d9587",
       "version_major": 2,
       "version_minor": 0
      },
      "text/plain": [
       "HBox(children=(HTML(value=''), FloatProgress(value=0.0, max=7.0), HTML(value='')))"
      ]
     },
     "metadata": {},
     "output_type": "display_data"
    },
    {
     "name": "stdout",
     "output_type": "stream",
     "text": [
      "\n"
     ]
    }
   ],
   "source": [
    "def f_stats(df):\n",
    "    thresholds = dict({})\n",
    "    f_neg_scores = dict({})\n",
    "    f_pos_scores = dict({})\n",
    "\n",
    "    for label, lsmall in tqdm(zip(LABELS, LABELS_SMALL)):\n",
    "        for sc in SCORE_TYPES:\n",
    "            poc_scores = np.array(df[f'{lsmall}_PAC_{sc}'])\n",
    "            y_true = np.array(df[label])\n",
    "            f0_scores, f1_scores = list([]), list([])\n",
    "            \n",
    "            u_poc_scores = np.unique(poc_scores)\n",
    "            for poc_score in u_poc_scores:\n",
    "                y_pred = np.array([1 if ps >= poc_score else 0 for ps in poc_scores])\n",
    "                \n",
    "                f_scores = f1_score(y_true=y_true, y_pred=y_pred, labels=[0, 1], average=None, zero_division=1.)\n",
    "                f0_scores.append(f_scores[0])\n",
    "                f1_scores.append(f_scores[1])\n",
    "\n",
    "            thresholds[f'{lsmall}_{sc}'] = u_poc_scores\n",
    "            f_neg_scores[f'{lsmall}_{sc}'] = np.array(f0_scores)\n",
    "            f_pos_scores[f'{lsmall}_{sc}'] = np.array(f1_scores)\n",
    "    \n",
    "    return thresholds, f_neg_scores, f_pos_scores\n",
    "\n",
    "thresholds, f_neg_scores, f_pos_scores = f_stats(df_data)"
   ]
  },
  {
   "cell_type": "markdown",
   "metadata": {},
   "source": [
    "Estimate optimal POC (min, mean and max) thresholds for each hate-speech class, judging by f measures for positive and negative examples."
   ]
  },
  {
   "cell_type": "code",
   "execution_count": null,
   "metadata": {},
   "outputs": [],
   "source": [
    "def optimal_thresholds(thrs, f_negs, f_poss):\n",
    "    optims = dict({})\n",
    "    \n",
    "    for lsmall in LABELS_SMALL:\n",
    "        for sc in SCORE_TYPES:\n",
    "            thr = thrs[f'{lsmall}_{sc}']\n",
    "            f_neg = f_negs[f'{lsmall}_{sc}']\n",
    "            f_pos = f_poss[f'{lsmall}_{sc}']\n",
    "            \n",
    "            optims[f'neg_{lsmall}_{sc}'] = thr[np.argmax(f_neg)]\n",
    "            optims[f'pos_{lsmall}_{sc}'] = thr[np.argmax(f_pos)]\n",
    "            del thr, f_neg, f_pos\n",
    "    \n",
    "    return optims\n",
    "\n",
    "optimal_POCs = optimal_thresholds(thresholds, f_neg_scores, f_pos_scores)\n",
    "optimal_POCs"
   ]
  },
  {
   "cell_type": "code",
   "execution_count": 15,
   "metadata": {},
   "outputs": [],
   "source": [
    "def f_measure_lines(thrs, f0_s, f1_s, highlight_optims=True,\n",
    "                     title='F measures for thresholds of min, mean and max POC.'):\n",
    "    fig, ax = plt.subplots(1, 3, figsize=(16, 5))\n",
    "    \n",
    "    titles = ['Minimum POC', 'Mean POC', 'Maximum POC']\n",
    "    for i in range(3):\n",
    "        ax[i].set_title(titles[i])\n",
    "        ax[i].set_ylabel('Score')\n",
    "        ax[i].set_xlabel('Threshold')\n",
    "        ax[i].plot(thrs[i], f0_s[i])\n",
    "        ax[i].plot(thrs[i], f1_s[i])\n",
    "\n",
    "        if highlight_optims:\n",
    "            mx, my = thrs[i][np.argmax(f0_s[i])], np.max(f0_s[i]) \n",
    "            ax[i].scatter([mx], [my], s=200, marker='*')\n",
    "            ax[i].annotate(f'({mx:.2f}, {my:.2f})', xy=(mx, my), fontsize=20)\n",
    "            mx, my = thrs[i][np.argmax(f1_s[i])], np.max(f1_s[i]) \n",
    "            ax[i].scatter([mx], [my], s=200, marker='*')\n",
    "            ax[i].annotate(f'({mx:.2f}, {my:.2f})', xy=(mx, my), fontsize=20)\n",
    "    '''\n",
    "    ax[1].set_title('Mean PAC')\n",
    "    ax[1].set_ylabel('Score')\n",
    "    ax[1].set_xlabel('Threshold')\n",
    "    ax[1].plot(thrs[1], f0_s[1])\n",
    "    ax[1].plot(thrs[1], f1_s[1])\n",
    "    \n",
    "    if highlight_optims:\n",
    "        mx, my = thrs[1][np.argmax(f0_s[1])], np.max(f0_s[1]) \n",
    "        ax[1].scatter([mx], [my], s=200, marker='*', label='max F0')\n",
    "        ax[1].annotate(f'({np.round(mx, 2)}, {np.round(my, 2)})', xy=(mx, my), fontsize=20)\n",
    "        mx, my = thrs[1][np.argmax(f1_s[1])], np.max(f1_s[1]) \n",
    "        ax[1].scatter([mx], [my], s=200, marker='*', label='max F1 ')\n",
    "        ax[1].annotate(f'({np.round(mx, 2)}, {np.round(my, 2)})', xy=(mx, my), fontsize=20)\n",
    "    \n",
    "    ax[2].set_title('Maximum PAC')\n",
    "    ax[2].set_ylabel('Score')\n",
    "    ax[2].set_xlabel('Threshold')\n",
    "    ax[2].plot(thrs[2], f0_s[2])\n",
    "    ax[2].plot(thrs[2], f1_s[2])\n",
    "    \n",
    "    if highlight_optims:\n",
    "        mx, my = thrs[2][np.argmax(f0_s[2])], np.max(f0_s[2]) \n",
    "        ax[2].scatter([mx], [my], s=200, marker='*')\n",
    "        ax[2].annotate(f'({np.round(mx, 2)}, {np.round(my, 2)})', xy=(mx, my), fontsize=20)\n",
    "        mx, my = thrs[2][np.argmax(f1_s[2])], np.max(f1_s[2]) \n",
    "        ax[2].scatter([mx], [my], s=200, marker='*')\n",
    "        ax[2].annotate(f'({np.round(mx, 2)}, {np.round(my, 2)})', xy=(mx, my), fontsize=20)\n",
    "    '''\n",
    "    \n",
    "    # custom legend\n",
    "    legend_lines = [Line2D([0], [0], color='#e24a33', lw=2, label='F0'),\n",
    "                    Line2D([0], [0], color='#348abd', lw=2, label='F1'),\n",
    "                    Line2D([0], [0], marker='*', color='#e24a33', markersize=15, label='max F0'),\n",
    "                    Line2D([0], [0], marker='*', color='#348abd', markersize=15, label='max F1')]\n",
    "    fig.legend(handles=legend_lines[:2], loc='upper left')\n",
    "    fig.legend(handles=legend_lines[2:], loc='upper right')\n",
    "    \n",
    "    fig.suptitle(title)\n",
    "    #plt.tight_layout()\n",
    "    #if save_file:\n",
    "    #    plt.savefig(save_file)\n",
    "    plt.show()"
   ]
  },
  {
   "cell_type": "code",
   "execution_count": null,
   "metadata": {},
   "outputs": [],
   "source": [
    "for label, lsmall in zip(LABELS, LABELS_SMALL):\n",
    "    f_measure_lines([thresholds[f'{lsmall}_{sc}'] for sc in SCORE_TYPES],\n",
    "                    [f_neg_scores[f'{lsmall}_{sc}'] for sc in SCORE_TYPES],\n",
    "                    [f_pos_scores[f'{lsmall}_{sc}'] for sc in SCORE_TYPES],\n",
    "                    title=f'F measures for thresholds of min, mean and max POC for class {label}.')"
   ]
  },
  {
   "cell_type": "markdown",
   "metadata": {},
   "source": [
    "## Classifier tests"
   ]
  },
  {
   "cell_type": "code",
   "execution_count": 31,
   "metadata": {},
   "outputs": [],
   "source": [
    "def get_POC(lemm_tweet, phrs):\n",
    "    scores = list([])\n",
    "\n",
    "    for label, phrases in zip(LABELS_V_SMALL, phrs):\n",
    "        sc_min, sc_mean, sc_max = list([]), list([]), list([])\n",
    "\n",
    "        for phrase in phrases:\n",
    "            mn, mean, mx = POC(lemm_tweet, phrase, lemmatized=True, stopwords=POLISH_STOPWORDS)\n",
    "            sc_min.append(mn)\n",
    "            sc_mean.append(mean)\n",
    "            sc_max.append(mx)\n",
    "\n",
    "        scores.append(np.min(sc_min))\n",
    "        scores.append(np.mean(sc_mean))\n",
    "        scores.append(np.max(sc_max))\n",
    "\n",
    "        del sc_min, sc_mean, sc_max\n",
    "\n",
    "    return scores\n",
    "\n",
    "def predict(scores, optims):\n",
    "    scores = scores.reshape(-1, 3)\n",
    "    pred = np.zeros(len(LABELS_SMALL), dtype=np.uint8)\n",
    "    \n",
    "    for i, lsmall in enumerate(LABELS_SMALL):\n",
    "        if scores[i][0] >= optims[f'pos_{lsmall}_min'] and\\\n",
    "           scores[i][1] >= optims[f'pos_{lsmall}_mean'] and\\\n",
    "           scores[i][2] >= optims[f'pos_{lsmall}_max']:\n",
    "            pred[i] = 1.\n",
    "    \n",
    "    return pred"
   ]
  },
  {
   "cell_type": "markdown",
   "metadata": {},
   "source": [
    "### Test for all data\n",
    "Predict for all data for each hate-speech class."
   ]
  },
  {
   "cell_type": "code",
   "execution_count": 32,
   "metadata": {},
   "outputs": [],
   "source": [
    "def test_data(df, optims):\n",
    "    y_trues, y_preds = list([]), list([])\n",
    "\n",
    "    for label, lsmall in zip(LABELS, LABELS_SMALL):\n",
    "        y_min = df[f'{lsmall}_POC_min'].values\n",
    "        y_mean = df[f'{lsmall}_POC_mean'].values\n",
    "        y_max = df[f'{lsmall}_POC_max'].values\n",
    "\n",
    "        min_thr = optims[f'pos_{lsmall}_min']\n",
    "        mean_thr = optims[f'pos_{lsmall}_mean']\n",
    "        max_thr = optims[f'pos_{lsmall}_max']\n",
    "        \n",
    "        y_true = df[label].values\n",
    "        y_pred = np.array([ 1 if mn >= min_thr and me >= mean_thr and mx >= max_thr else 0\n",
    "                           for mn, me, mx in zip(y_min, y_mean, y_max)])\n",
    "        y_trues.append(y_true)\n",
    "        y_preds.append(y_pred)\n",
    "\n",
    "        del y_min, y_mean, y_max, min_thr, mean_thr, max_thr\n",
    "    \n",
    "    return np.array(y_trues), np.array(y_preds)\n",
    "\n",
    "trues, preds = test_data(df_data, optimal_POCs)"
   ]
  },
  {
   "cell_type": "raw",
   "metadata": {},
   "source": [
    "def confusion_matrix_plot(conf_mat, cls, x_label, y_label, title, file_name):\n",
    "    plt.imshow(conf_mat, interpolation='nearest', cmap=plt.cm.Wistia)\n",
    "    plt.title(title)\n",
    "    plt.ylabel(y_label)\n",
    "    plt.xlabel(x_label)\n",
    "    tick_marks = np.arange(len(cls))\n",
    "    plt.grid(False)\n",
    "    plt.xticks(tick_marks, cls, rotation=45)\n",
    "    plt.yticks(tick_marks, cls)\n",
    "    \n",
    "    for i in range(len(cls)):\n",
    "        for j in range(len(cls)):\n",
    "            plt.text(j - 0.2, i, str(conf_mat[i][j]), fontsize=8)\n",
    "    \n",
    "    plt.savefig(file_name)\n",
    "    plt.show()"
   ]
  },
  {
   "cell_type": "code",
   "execution_count": 35,
   "metadata": {},
   "outputs": [
    {
     "data": {
      "image/png": "[encoded data removed]",
      "text/plain": [
       "<Figure size 1152x576 with 8 Axes>"
      ]
     },
     "metadata": {
      "needs_background": "light"
     },
     "output_type": "display_data"
    }
   ],
   "source": [
    "def confusion_matrices(y_trues, y_preds,\n",
    "                       title='Confusion matrices with F measures for all hate-speech classes with overall score.')\n",
    "    fig, ax = plt.subplots(2, 4, figsize=(16, 8))\n",
    "    positions = list([tuple((i, j)) for i in range(2) for j in range(4)])\n",
    "    labels = LABELS + ['overall']\n",
    "\n",
    "    for i, (p, label, y_true, y_pred) in enumerate(zip(positions, labels, y_trues, y_preds)):\n",
    "\n",
    "        acc = accuracy_score(y_true=y_true, y_pred=y_pred)\n",
    "        f0, f1 = f1_score(y_true=y_true, y_pred=y_pred, labels=[0, 1], average=None, zero_division=1.)\n",
    "        cm = confusion_matrix(y_true=y_true, y_pred=y_pred, labels=[0, 1])\n",
    "\n",
    "        #acc = np.round(accuracy_cm(conf_matrices[ht]), 2)\n",
    "        #f1 = np.round(f1_cm(conf_matrices[ht]), 2)\n",
    "        ax[p[0]][p[1]].set_title(f'CM for \"{label}\" | f0: {f0:.2f} | f1: {f1:.2f}')\n",
    "        ax[p[0]][p[1]].set_ylabel('Predicted')\n",
    "        ax[p[0]][p[1]].set_xlabel('Actual')\n",
    "\n",
    "        ax[p[0]][p[1]].imshow(cm, interpolation='nearest', cmap=plt.cm.Wistia)\n",
    "        tick_marks = np.arange(2)\n",
    "        ax[p[0]][p[1]].set_xticks(tick_marks)\n",
    "        ax[p[0]][p[1]].set_yticks(tick_marks)\n",
    "\n",
    "        for i in range(2):\n",
    "            for j in range(2):\n",
    "                ax[p[0]][p[1]].text(j - 0.2, i, f'{cm[i][j]}', fontsize=20)\n",
    "\n",
    "    fig.suptitle(title)\n",
    "\n",
    "    #plt.tight_layout()\n",
    "    #plt.savefig('charts/lexical_classifier/conf_matrices.png')\n",
    "    plt.show()\n",
    "\n",
    "confusion_matrices()"
   ]
  },
  {
   "cell_type": "code",
   "execution_count": null,
   "metadata": {},
   "outputs": [],
   "source": [
    "def test(text):\n",
    "    lemm = lemmatize_text(text)\n",
    "    poc = get_POC(lemm, ext_phrases)\n",
    "    preds = predict(poc, optimal_POCs)\n",
    "    \n",
    "    return preds"
   ]
  },
  {
   "cell_type": "markdown",
   "metadata": {},
   "source": [
    "### Test 1"
   ]
  },
  {
   "cell_type": "code",
   "execution_count": 36,
   "metadata": {},
   "outputs": [
    {
     "data": {
      "text/plain": [
       "'nie. po prostu skorumpowane zgniłe zatrute przez ciebie i twoich kolesiów sądy, które swoich zawsze wybronią'"
      ]
     },
     "execution_count": 36,
     "metadata": {},
     "output_type": "execute_result"
    }
   ],
   "source": [
    "test_text1 = 'nie. po prostu skorumpowane zgniłe zatrute przez ciebie i twoich kolesiów sądy, które swoich zawsze wybronią'\n",
    "preds1 = test(test_text1)\n",
    "dict(zip(LABELS, preds1))"
   ]
  },
  {
   "cell_type": "raw",
   "metadata": {},
   "source": [
    "Empirically should be: 'stygmatyzacja': 1.0."
   ]
  },
  {
   "cell_type": "markdown",
   "metadata": {},
   "source": [
    "### Test 2"
   ]
  },
  {
   "cell_type": "code",
   "execution_count": 39,
   "metadata": {},
   "outputs": [
    {
     "data": {
      "text/plain": [
       "'To nie sądy, to ludzie, sędziowie, zdrajcy barbarzyńcy w togach z mafijnej organizacji zdradziecko zbrodniczej którzy muszą zostać wyeliminowani'"
      ]
     },
     "execution_count": 39,
     "metadata": {},
     "output_type": "execute_result"
    }
   ],
   "source": [
    "test_text2 = 'To nie sądy, to ludzie, sędziowie, zdrajcy barbarzyńcy w togach z mafijnej organizacji zdradziecko zbrodniczej którzy muszą zostać wyeliminowani'\n",
    "preds2 = test(test_text2)\n",
    "dict(zip(LABELS, preds2))"
   ]
  },
  {
   "cell_type": "raw",
   "metadata": {},
   "source": [
    "Empirically everything OK! Hooray!"
   ]
  },
  {
   "cell_type": "markdown",
   "metadata": {},
   "source": [
    "### Test 3"
   ]
  },
  {
   "cell_type": "code",
   "execution_count": 42,
   "metadata": {},
   "outputs": [
    {
     "data": {
      "text/plain": [
       "'Przed repolonizacją teren wyczyścić! Raz, dwa! Nie patrzeć na boki! Sądy sądami, ale media muszą być nasze media '"
      ]
     },
     "execution_count": 42,
     "metadata": {},
     "output_type": "execute_result"
    }
   ],
   "source": [
    "test_text3 = 'Przed repolonizacją teren wyczyścić! Raz, dwa! Nie patrzeć na boki! Sądy sądami, ale media muszą być nasze media '\n",
    "preds3 = test(test_text3)\n",
    "dict(zip(LABELS, preds3))"
   ]
  },
  {
   "cell_type": "raw",
   "metadata": {},
   "source": [
    "Empirically should be: 'grożenie': 1.0."
   ]
  }
 ],
 "metadata": {
  "kernelspec": {
   "display_name": "Python 3",
   "language": "python",
   "name": "python3"
  },
  "language_info": {
   "codemirror_mode": {
    "name": "ipython",
    "version": 3
   },
   "file_extension": ".py",
   "mimetype": "text/x-python",
   "name": "python",
   "nbconvert_exporter": "python",
   "pygments_lexer": "ipython3",
   "version": "3.6.12"
  }
 },
 "nbformat": 4,
 "nbformat_minor": 4
}
