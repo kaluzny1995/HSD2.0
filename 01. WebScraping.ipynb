{
 "cells": [
  {
   "cell_type": "markdown",
   "metadata": {},
   "source": [
    "# Web Scraping\n",
    "---\n",
    "Scraping the hateful post/tweets from web."
   ]
  },
  {
   "cell_type": "code",
   "execution_count": 1,
   "metadata": {},
   "outputs": [],
   "source": [
    "import nest_asyncio\n",
    "nest_asyncio.apply()\n",
    "\n",
    "import twint\n",
    "\n",
    "from datetime import datetime, timedelta, date\n",
    "\n",
    "from src.webscraping import amount_from_each_day, multiple_searches\n",
    "from src.constants import SUPPLEMENT_RAW_DIR"
   ]
  },
  {
   "cell_type": "code",
   "execution_count": null,
   "metadata": {},
   "outputs": [],
   "source": [
    "start_date = '2016-02-25'\n",
    "end_date = '2016-06-27'\n",
    "file_label = f'{start_date.split(\"-\")[0]}-{start_date.split(\"-\")[1]}{end_date.split(\"-\")[1]}'\n",
    "\n",
    "amount_from_each_day(start_date, end_date, topic='sądy', lang='pl',\n",
    "                     file_name=SUPPLEMENT_RAW_DIR.replace('{}', file_label))"
   ]
  },
  {
   "cell_type": "raw",
   "metadata": {},
   "source": [
    "multiple_searches(in_file='data/vulgars/polish_vulgars.txt', out_folder='data/vulgars_main')"
   ]
  },
  {
   "cell_type": "raw",
   "metadata": {},
   "source": [
    "multiple_searches(in_file='data/vulgars/polish_additionalwn_vulgars.txt', out_folder='data/vulgars_additionalwn')"
   ]
  }
 ],
 "metadata": {
  "kernelspec": {
   "display_name": "Python 3",
   "language": "python",
   "name": "python3"
  },
  "language_info": {
   "codemirror_mode": {
    "name": "ipython",
    "version": 3
   },
   "file_extension": ".py",
   "mimetype": "text/x-python",
   "name": "python",
   "nbconvert_exporter": "python",
   "pygments_lexer": "ipython3",
   "version": "3.6.13"
  }
 },
 "nbformat": 4,
 "nbformat_minor": 4
}
