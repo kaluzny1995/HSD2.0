{
 "cells": [
  {
   "cell_type": "markdown",
   "metadata": {},
   "source": [
    "# Tweet Sanitizer\n",
    "---\n",
    "A Python code to sanitize i.e. remove hashtags, mentions, links, photos, etc. from raw tweet content."
   ]
  },
  {
   "cell_type": "code",
   "execution_count": 1,
   "metadata": {},
   "outputs": [],
   "source": [
    "import numpy as np\n",
    "\n",
    "import re\n",
    "import csv\n",
    "import os\n",
    "\n",
    "import emot\n",
    "import emoji\n",
    "\n",
    "from tqdm.notebook import tqdm\n",
    "\n",
    "from src.sanitization import TweetSanitizer\n",
    "\n",
    "from src.constants import (RAW_PATH, SANITIZED_PATH,\n",
    "                           SUPPLEMENT_RAW_DIR, SUPPLEMENT_SANITIZED_DIR)"
   ]
  },
  {
   "cell_type": "markdown",
   "metadata": {},
   "source": [
    "**PARTIAL SANITIZATION**\n",
    "\n",
    "Remove:\n",
    "* strange non-utf-8 characters\n",
    "* user mentions\n",
    "* links {https://t.co/P3zt8zBUbL}\n",
    "* photos content {pic.twitter.com...}\n",
    "* hashtags with hashcodes {#.43djr324rj34}\n",
    "* special characters {/w; /n; /r}\n",
    "* redundant spaces\n",
    "\n",
    "\n",
    "**FULL SANITIZATION**\n",
    "\n",
    "Remove:\n",
    "* all like in partial sanitization\n",
    "* all hashtag hashes {#}\n",
    "* others but texts\n",
    "\n",
    "Extract:\n",
    "* emoticons {:); ;)}\n",
    "* emoji {🤦‍♂️; 🤣; 😂; 🤣}"
   ]
  },
  {
   "cell_type": "code",
   "execution_count": 2,
   "metadata": {},
   "outputs": [],
   "source": [
    "sanitizer = TweetSanitizer()"
   ]
  },
  {
   "cell_type": "code",
   "execution_count": 3,
   "metadata": {},
   "outputs": [
    {
     "data": {
      "text/plain": [
       "'#Kompania #Węglowa @weglowa :( pic.twitter.com/O2ixmQ2Jm1 https:// blokuje śląskie sądy. http://niezalezna.pl/209246-sprawdzili-czy-tusk 😂 20 tysięcy pozwów ws. deputatów węglowych :/- Dziennik...zachodni.pl:http://niezalezna.pl/209246-sprawdzili-czy-tusk-jest-winny #.VIXGNXEL7p8.twitter …'"
      ]
     },
     "execution_count": 3,
     "metadata": {},
     "output_type": "execute_result"
    }
   ],
   "source": [
    "test_text = '#Kompania #Węglowa @weglowa :( pic.twitter.com/O2ixmQ2Jm1 https:// blokuje śląskie sądy. http://niezalezna.pl/209246-sprawdzili-czy-tusk 😂 20 tysięcy pozwów ws. deputatów węglowych :/- Dziennik...zachodni.pl:http://niezalezna.pl/209246-sprawdzili-czy-tusk-jest-winny #.VIXGNXEL7p8.twitter …'\n",
    "test_text"
   ]
  },
  {
   "cell_type": "code",
   "execution_count": 4,
   "metadata": {},
   "outputs": [
    {
     "data": {
      "text/plain": [
       "'#Kompania #Węglowa :( blokuje śląskie sądy. 😂 20 tysięcy pozwów ws. deputatów węglowych :/- Dziennikzachodni.pl: '"
      ]
     },
     "execution_count": 4,
     "metadata": {},
     "output_type": "execute_result"
    }
   ],
   "source": [
    "sanitizer.partial_sanitization(test_text)"
   ]
  },
  {
   "cell_type": "code",
   "execution_count": 5,
   "metadata": {},
   "outputs": [
    {
     "data": {
      "text/plain": [
       "('Kompania Węglowa blokuje śląskie sądy. 20 tysięcy pozwów ws. deputatów węglowych - Dziennikzachodni.pl: ',\n",
       " '😂',\n",
       " ':( :/')"
      ]
     },
     "execution_count": 5,
     "metadata": {},
     "output_type": "execute_result"
    }
   ],
   "source": [
    "sanitizer.full_sanitization(test_text)"
   ]
  },
  {
   "cell_type": "code",
   "execution_count": 6,
   "metadata": {},
   "outputs": [
    {
     "data": {
      "text/plain": [
       "('This does not work: \\U0001f928, !🇵, \\U0001f92a, and \\U0001f97a. But this  works!',\n",
       " '😂')"
      ]
     },
     "execution_count": 6,
     "metadata": {},
     "output_type": "execute_result"
    }
   ],
   "source": [
    "sanitizer.extract_emoji___('This does not work: 🤨, !🇵, 🤪, and 🥺. But this 😂 works!')"
   ]
  },
  {
   "cell_type": "code",
   "execution_count": 7,
   "metadata": {},
   "outputs": [
    {
     "data": {
      "text/plain": [
       "('This does not work: , !, , and . But this  works!',\n",
       " '\\U0001f928 🇵 \\U0001f92a \\U0001f97a 😂')"
      ]
     },
     "execution_count": 7,
     "metadata": {},
     "output_type": "execute_result"
    }
   ],
   "source": [
    "sanitizer.extract_emoji('This does not work: 🤨, !🇵, 🤪, and 🥺. But this 😂 works!')"
   ]
  },
  {
   "cell_type": "code",
   "execution_count": 8,
   "metadata": {},
   "outputs": [],
   "source": [
    "file_label = '2016-0206'\n",
    "sanitizer.sanitize_tweets(SUPPLEMENT_RAW_DIR.replace('{}', file_label),\n",
    "                          SUPPLEMENT_SANITIZED_DIR.replace('{}', file_label), full_sanitize=True)"
   ]
  },
  {
   "cell_type": "raw",
   "metadata": {},
   "source": [
    "sanitize_tweets(RAW_PATH, SANITIZED_PATH, full_sanitize=True)"
   ]
  },
  {
   "cell_type": "markdown",
   "metadata": {},
   "source": [
    "**Get all texts from vulgar tweets.**"
   ]
  },
  {
   "cell_type": "raw",
   "metadata": {},
   "source": [
    "for file in tqdm(os.listdir('data/vulgars_net')):\n",
    "    sanitize_tweets(f'data/vulgars_net/{file}',\n",
    "                    f'data/vulgars__texts/{file.replace(\".csv\", \"__texts.csv\")}',\n",
    "                    full_sanitize=True, save_texts_only=True)"
   ]
  },
  {
   "cell_type": "raw",
   "metadata": {},
   "source": [
    "for file in tqdm(os.listdir('data/vulgars_additionalwn')):\n",
    "    sanitize_tweets(f'data/vulgars_additionalwn/{file}',\n",
    "                    f'data/vulgars__texts/{file.replace(\".csv\", \"__texts.csv\")}',\n",
    "                    full_sanitize=True, save_texts_only=True)"
   ]
  }
 ],
 "metadata": {
  "kernelspec": {
   "display_name": "Python 3",
   "language": "python",
   "name": "python3"
  },
  "language_info": {
   "codemirror_mode": {
    "name": "ipython",
    "version": 3
   },
   "file_extension": ".py",
   "mimetype": "text/x-python",
   "name": "python",
   "nbconvert_exporter": "python",
   "pygments_lexer": "ipython3",
   "version": "3.6.13"
  }
 },
 "nbformat": 4,
 "nbformat_minor": 4
}
