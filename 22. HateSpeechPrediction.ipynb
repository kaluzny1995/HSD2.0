{
 "cells": [
  {
   "cell_type": "markdown",
   "metadata": {},
   "source": [
    "# Hate Speech Detector 2.0\n",
    "---\n",
    "**Unannotated tweets hate speech prediction** - for whole tweets\n",
    "\n",
    "1. Load unannotated lemmatized tweets.\n",
    "2. Load best classification model (**clf**) with appropriate vectorization model (**vec**) if applicable.\n",
    "3. Predict hate speech for above data.\n",
    "4. Save prediction results into .csv file.\n",
    "5. Perform above analysis for three best classifiers."
   ]
  },
  {
   "cell_type": "code",
   "execution_count": 1,
   "metadata": {},
   "outputs": [],
   "source": [
    "import numpy as np\n",
    "import pandas as pd\n",
    "import csv\n",
    "\n",
    "from tqdm.notebook import tqdm\n",
    "\n",
    "from src.dataframes.utils import combine_row_wisely\n",
    "\n",
    "from src.vectorizers.TextOwnTrainedFTVectorizer import TextOwnTrainedFTVectorizer\n",
    "from src.nn.models.RecurrentNet import RecurrentNet\n",
    "from src.nn.models.Conv1dRecurrentNet import Conv1dRecurrentNet\n",
    "from sklearn.linear_model import SGDClassifier\n",
    "from src.classifiers.SimpleMLVectorClassifier import SimpleMLVectorClassifier\n",
    "from src.classifiers.DLVectorClassifier import DLVectorClassifier\n",
    "import torch\n",
    "\n",
    "from src.constants import (ALL_SANITIZED_PATH,\n",
    "                           ALL_POC_SCORES_PATH, ALL_TOPIC_POC_SCORES_PATH, ALL_OTHER_SCORES_PATH,\n",
    "                           PREDICTION_RESULTS_DIR, LABELS)"
   ]
  },
  {
   "cell_type": "markdown",
   "metadata": {},
   "source": [
    "## Data loading"
   ]
  },
  {
   "cell_type": "markdown",
   "metadata": {},
   "source": [
    "### Tweet POC scores for each class"
   ]
  },
  {
   "cell_type": "code",
   "execution_count": 2,
   "metadata": {},
   "outputs": [
    {
     "data": {
      "text/html": [
       "<div>\n",
       "<style scoped>\n",
       "    .dataframe tbody tr th:only-of-type {\n",
       "        vertical-align: middle;\n",
       "    }\n",
       "\n",
       "    .dataframe tbody tr th {\n",
       "        vertical-align: top;\n",
       "    }\n",
       "\n",
       "    .dataframe thead th {\n",
       "        text-align: right;\n",
       "    }\n",
       "</style>\n",
       "<table border=\"1\" class=\"dataframe\">\n",
       "  <thead>\n",
       "    <tr style=\"text-align: right;\">\n",
       "      <th></th>\n",
       "      <th>wyz_POC_min</th>\n",
       "      <th>wyz_POC_mean</th>\n",
       "      <th>wyz_POC_max</th>\n",
       "      <th>groz_POC_min</th>\n",
       "      <th>groz_POC_mean</th>\n",
       "      <th>groz_POC_max</th>\n",
       "      <th>wyk_POC_min</th>\n",
       "      <th>wyk_POC_mean</th>\n",
       "      <th>wyk_POC_max</th>\n",
       "      <th>odcz_POC_min</th>\n",
       "      <th>...</th>\n",
       "      <th>pon_POC_max</th>\n",
       "      <th>styg_POC_min</th>\n",
       "      <th>styg_POC_mean</th>\n",
       "      <th>styg_POC_max</th>\n",
       "      <th>szan_POC_min</th>\n",
       "      <th>szan_POC_mean</th>\n",
       "      <th>szan_POC_max</th>\n",
       "      <th>vulg_POC_min</th>\n",
       "      <th>vulg_POC_mean</th>\n",
       "      <th>vulg_POC_max</th>\n",
       "    </tr>\n",
       "  </thead>\n",
       "  <tbody>\n",
       "    <tr>\n",
       "      <th>0</th>\n",
       "      <td>0.0</td>\n",
       "      <td>0.0</td>\n",
       "      <td>0.0</td>\n",
       "      <td>-0.5</td>\n",
       "      <td>-0.001731</td>\n",
       "      <td>0.00</td>\n",
       "      <td>0.0</td>\n",
       "      <td>0.0</td>\n",
       "      <td>0.0</td>\n",
       "      <td>0.000000</td>\n",
       "      <td>...</td>\n",
       "      <td>0.500000</td>\n",
       "      <td>0.0</td>\n",
       "      <td>0.000000</td>\n",
       "      <td>0.0</td>\n",
       "      <td>0.0</td>\n",
       "      <td>0.0</td>\n",
       "      <td>0.0</td>\n",
       "      <td>0.0</td>\n",
       "      <td>0.0</td>\n",
       "      <td>0.0</td>\n",
       "    </tr>\n",
       "    <tr>\n",
       "      <th>1</th>\n",
       "      <td>0.0</td>\n",
       "      <td>0.0</td>\n",
       "      <td>0.0</td>\n",
       "      <td>-0.5</td>\n",
       "      <td>-0.001385</td>\n",
       "      <td>0.25</td>\n",
       "      <td>0.0</td>\n",
       "      <td>0.0</td>\n",
       "      <td>0.0</td>\n",
       "      <td>-0.333333</td>\n",
       "      <td>...</td>\n",
       "      <td>0.333333</td>\n",
       "      <td>-0.5</td>\n",
       "      <td>-0.000152</td>\n",
       "      <td>0.5</td>\n",
       "      <td>0.0</td>\n",
       "      <td>0.0</td>\n",
       "      <td>0.0</td>\n",
       "      <td>0.0</td>\n",
       "      <td>0.0</td>\n",
       "      <td>0.0</td>\n",
       "    </tr>\n",
       "  </tbody>\n",
       "</table>\n",
       "<p>2 rows × 24 columns</p>\n",
       "</div>"
      ],
      "text/plain": [
       "   wyz_POC_min  wyz_POC_mean  wyz_POC_max  groz_POC_min  groz_POC_mean  \\\n",
       "0          0.0           0.0          0.0          -0.5      -0.001731   \n",
       "1          0.0           0.0          0.0          -0.5      -0.001385   \n",
       "\n",
       "   groz_POC_max  wyk_POC_min  wyk_POC_mean  wyk_POC_max  odcz_POC_min  ...  \\\n",
       "0          0.00          0.0           0.0          0.0      0.000000  ...   \n",
       "1          0.25          0.0           0.0          0.0     -0.333333  ...   \n",
       "\n",
       "   pon_POC_max  styg_POC_min  styg_POC_mean  styg_POC_max  szan_POC_min  \\\n",
       "0     0.500000           0.0       0.000000           0.0           0.0   \n",
       "1     0.333333          -0.5      -0.000152           0.5           0.0   \n",
       "\n",
       "   szan_POC_mean  szan_POC_max  vulg_POC_min  vulg_POC_mean  vulg_POC_max  \n",
       "0            0.0           0.0           0.0            0.0           0.0  \n",
       "1            0.0           0.0           0.0            0.0           0.0  \n",
       "\n",
       "[2 rows x 24 columns]"
      ]
     },
     "execution_count": 2,
     "metadata": {},
     "output_type": "execute_result"
    }
   ],
   "source": [
    "df_poc_scores = pd.read_csv(ALL_POC_SCORES_PATH).drop(['id'], axis=1)\n",
    "df_poc_scores.head(2)"
   ]
  },
  {
   "cell_type": "markdown",
   "metadata": {},
   "source": [
    "### Tweet topic POC for each class"
   ]
  },
  {
   "cell_type": "code",
   "execution_count": 3,
   "metadata": {},
   "outputs": [
    {
     "data": {
      "text/html": [
       "<div>\n",
       "<style scoped>\n",
       "    .dataframe tbody tr th:only-of-type {\n",
       "        vertical-align: middle;\n",
       "    }\n",
       "\n",
       "    .dataframe tbody tr th {\n",
       "        vertical-align: top;\n",
       "    }\n",
       "\n",
       "    .dataframe thead th {\n",
       "        text-align: right;\n",
       "    }\n",
       "</style>\n",
       "<table border=\"1\" class=\"dataframe\">\n",
       "  <thead>\n",
       "    <tr style=\"text-align: right;\">\n",
       "      <th></th>\n",
       "      <th>wyz_topic_POC_min</th>\n",
       "      <th>wyz_topic_POC_mean</th>\n",
       "      <th>wyz_topic_POC_max</th>\n",
       "      <th>groz_topic_POC_min</th>\n",
       "      <th>groz_topic_POC_mean</th>\n",
       "      <th>groz_topic_POC_max</th>\n",
       "      <th>wyk_topic_POC_min</th>\n",
       "      <th>wyk_topic_POC_mean</th>\n",
       "      <th>wyk_topic_POC_max</th>\n",
       "      <th>odcz_topic_POC_min</th>\n",
       "      <th>...</th>\n",
       "      <th>pon_topic_POC_max</th>\n",
       "      <th>styg_topic_POC_min</th>\n",
       "      <th>styg_topic_POC_mean</th>\n",
       "      <th>styg_topic_POC_max</th>\n",
       "      <th>szan_topic_POC_min</th>\n",
       "      <th>szan_topic_POC_mean</th>\n",
       "      <th>szan_topic_POC_max</th>\n",
       "      <th>vulg_topic_POC_min</th>\n",
       "      <th>vulg_topic_POC_mean</th>\n",
       "      <th>vulg_topic_POC_max</th>\n",
       "    </tr>\n",
       "  </thead>\n",
       "  <tbody>\n",
       "    <tr>\n",
       "      <th>0</th>\n",
       "      <td>0.0</td>\n",
       "      <td>0.0</td>\n",
       "      <td>0.0</td>\n",
       "      <td>0.0</td>\n",
       "      <td>0.0</td>\n",
       "      <td>0.0</td>\n",
       "      <td>0.0</td>\n",
       "      <td>0.0</td>\n",
       "      <td>0.0</td>\n",
       "      <td>0.000000</td>\n",
       "      <td>...</td>\n",
       "      <td>0.000000</td>\n",
       "      <td>0.000000</td>\n",
       "      <td>0.000000</td>\n",
       "      <td>0.0</td>\n",
       "      <td>0.0</td>\n",
       "      <td>0.0</td>\n",
       "      <td>0.0</td>\n",
       "      <td>0.0</td>\n",
       "      <td>0.0</td>\n",
       "      <td>0.0</td>\n",
       "    </tr>\n",
       "    <tr>\n",
       "      <th>1</th>\n",
       "      <td>0.0</td>\n",
       "      <td>0.0</td>\n",
       "      <td>0.0</td>\n",
       "      <td>0.0</td>\n",
       "      <td>0.0</td>\n",
       "      <td>0.0</td>\n",
       "      <td>0.0</td>\n",
       "      <td>0.0</td>\n",
       "      <td>0.0</td>\n",
       "      <td>-0.052632</td>\n",
       "      <td>...</td>\n",
       "      <td>0.052632</td>\n",
       "      <td>-0.052632</td>\n",
       "      <td>-0.002632</td>\n",
       "      <td>0.0</td>\n",
       "      <td>0.0</td>\n",
       "      <td>0.0</td>\n",
       "      <td>0.0</td>\n",
       "      <td>0.0</td>\n",
       "      <td>0.0</td>\n",
       "      <td>0.0</td>\n",
       "    </tr>\n",
       "  </tbody>\n",
       "</table>\n",
       "<p>2 rows × 24 columns</p>\n",
       "</div>"
      ],
      "text/plain": [
       "   wyz_topic_POC_min  wyz_topic_POC_mean  wyz_topic_POC_max  \\\n",
       "0                0.0                 0.0                0.0   \n",
       "1                0.0                 0.0                0.0   \n",
       "\n",
       "   groz_topic_POC_min  groz_topic_POC_mean  groz_topic_POC_max  \\\n",
       "0                 0.0                  0.0                 0.0   \n",
       "1                 0.0                  0.0                 0.0   \n",
       "\n",
       "   wyk_topic_POC_min  wyk_topic_POC_mean  wyk_topic_POC_max  \\\n",
       "0                0.0                 0.0                0.0   \n",
       "1                0.0                 0.0                0.0   \n",
       "\n",
       "   odcz_topic_POC_min  ...  pon_topic_POC_max  styg_topic_POC_min  \\\n",
       "0            0.000000  ...           0.000000            0.000000   \n",
       "1           -0.052632  ...           0.052632           -0.052632   \n",
       "\n",
       "   styg_topic_POC_mean  styg_topic_POC_max  szan_topic_POC_min  \\\n",
       "0             0.000000                 0.0                 0.0   \n",
       "1            -0.002632                 0.0                 0.0   \n",
       "\n",
       "   szan_topic_POC_mean  szan_topic_POC_max  vulg_topic_POC_min  \\\n",
       "0                  0.0                 0.0                 0.0   \n",
       "1                  0.0                 0.0                 0.0   \n",
       "\n",
       "   vulg_topic_POC_mean  vulg_topic_POC_max  \n",
       "0                  0.0                 0.0  \n",
       "1                  0.0                 0.0  \n",
       "\n",
       "[2 rows x 24 columns]"
      ]
     },
     "execution_count": 3,
     "metadata": {},
     "output_type": "execute_result"
    }
   ],
   "source": [
    "df_topic_poc_scores = pd.read_csv(ALL_TOPIC_POC_SCORES_PATH).drop(['id'], axis=1)\n",
    "df_topic_poc_scores.head(2)"
   ]
  },
  {
   "cell_type": "markdown",
   "metadata": {},
   "source": [
    "### Tweet other scores"
   ]
  },
  {
   "cell_type": "code",
   "execution_count": 4,
   "metadata": {},
   "outputs": [
    {
     "data": {
      "text/html": [
       "<div>\n",
       "<style scoped>\n",
       "    .dataframe tbody tr th:only-of-type {\n",
       "        vertical-align: middle;\n",
       "    }\n",
       "\n",
       "    .dataframe tbody tr th {\n",
       "        vertical-align: top;\n",
       "    }\n",
       "\n",
       "    .dataframe thead th {\n",
       "        text-align: right;\n",
       "    }\n",
       "</style>\n",
       "<table border=\"1\" class=\"dataframe\">\n",
       "  <thead>\n",
       "    <tr style=\"text-align: right;\">\n",
       "      <th></th>\n",
       "      <th>s_neg</th>\n",
       "      <th>s_neu</th>\n",
       "      <th>s_pos</th>\n",
       "      <th>n_chars</th>\n",
       "      <th>n_sylls</th>\n",
       "      <th>n_words</th>\n",
       "      <th>nu_words</th>\n",
       "      <th>nl_chars</th>\n",
       "      <th>nl_sylls</th>\n",
       "      <th>nl_words</th>\n",
       "      <th>nlu_words</th>\n",
       "    </tr>\n",
       "  </thead>\n",
       "  <tbody>\n",
       "    <tr>\n",
       "      <th>0</th>\n",
       "      <td>0</td>\n",
       "      <td>15</td>\n",
       "      <td>0</td>\n",
       "      <td>73</td>\n",
       "      <td>28</td>\n",
       "      <td>13</td>\n",
       "      <td>13</td>\n",
       "      <td>66</td>\n",
       "      <td>23</td>\n",
       "      <td>12</td>\n",
       "      <td>12</td>\n",
       "    </tr>\n",
       "    <tr>\n",
       "      <th>1</th>\n",
       "      <td>1</td>\n",
       "      <td>15</td>\n",
       "      <td>0</td>\n",
       "      <td>81</td>\n",
       "      <td>28</td>\n",
       "      <td>15</td>\n",
       "      <td>13</td>\n",
       "      <td>76</td>\n",
       "      <td>24</td>\n",
       "      <td>17</td>\n",
       "      <td>14</td>\n",
       "    </tr>\n",
       "  </tbody>\n",
       "</table>\n",
       "</div>"
      ],
      "text/plain": [
       "   s_neg  s_neu  s_pos  n_chars  n_sylls  n_words  nu_words  nl_chars  \\\n",
       "0      0     15      0       73       28       13        13        66   \n",
       "1      1     15      0       81       28       15        13        76   \n",
       "\n",
       "   nl_sylls  nl_words  nlu_words  \n",
       "0        23        12         12  \n",
       "1        24        17         14  "
      ]
     },
     "execution_count": 4,
     "metadata": {},
     "output_type": "execute_result"
    }
   ],
   "source": [
    "df_other_scores = pd.read_csv(ALL_OTHER_SCORES_PATH).drop(['id'], axis=1)\n",
    "df_other_scores.head(2)"
   ]
  },
  {
   "cell_type": "markdown",
   "metadata": {},
   "source": [
    "### Lexical data"
   ]
  },
  {
   "cell_type": "code",
   "execution_count": 5,
   "metadata": {
    "scrolled": true
   },
   "outputs": [
    {
     "data": {
      "text/html": [
       "<div>\n",
       "<style scoped>\n",
       "    .dataframe tbody tr th:only-of-type {\n",
       "        vertical-align: middle;\n",
       "    }\n",
       "\n",
       "    .dataframe tbody tr th {\n",
       "        vertical-align: top;\n",
       "    }\n",
       "\n",
       "    .dataframe thead th {\n",
       "        text-align: right;\n",
       "    }\n",
       "</style>\n",
       "<table border=\"1\" class=\"dataframe\">\n",
       "  <thead>\n",
       "    <tr style=\"text-align: right;\">\n",
       "      <th></th>\n",
       "      <th>wyz_POC_min</th>\n",
       "      <th>wyz_POC_mean</th>\n",
       "      <th>wyz_POC_max</th>\n",
       "      <th>groz_POC_min</th>\n",
       "      <th>groz_POC_mean</th>\n",
       "      <th>groz_POC_max</th>\n",
       "      <th>wyk_POC_min</th>\n",
       "      <th>wyk_POC_mean</th>\n",
       "      <th>wyk_POC_max</th>\n",
       "      <th>odcz_POC_min</th>\n",
       "      <th>...</th>\n",
       "      <th>odcz_POC_max</th>\n",
       "      <th>pon_POC_min</th>\n",
       "      <th>pon_POC_mean</th>\n",
       "      <th>pon_POC_max</th>\n",
       "      <th>styg_POC_min</th>\n",
       "      <th>styg_POC_mean</th>\n",
       "      <th>styg_POC_max</th>\n",
       "      <th>szan_POC_min</th>\n",
       "      <th>szan_POC_mean</th>\n",
       "      <th>szan_POC_max</th>\n",
       "    </tr>\n",
       "  </thead>\n",
       "  <tbody>\n",
       "    <tr>\n",
       "      <th>0</th>\n",
       "      <td>0.0</td>\n",
       "      <td>0.0</td>\n",
       "      <td>0.0</td>\n",
       "      <td>-0.5</td>\n",
       "      <td>-0.001731</td>\n",
       "      <td>0.00</td>\n",
       "      <td>0.0</td>\n",
       "      <td>0.0</td>\n",
       "      <td>0.0</td>\n",
       "      <td>0.000000</td>\n",
       "      <td>...</td>\n",
       "      <td>0.0</td>\n",
       "      <td>0.0</td>\n",
       "      <td>0.000864</td>\n",
       "      <td>0.500000</td>\n",
       "      <td>0.0</td>\n",
       "      <td>0.000000</td>\n",
       "      <td>0.0</td>\n",
       "      <td>0.0</td>\n",
       "      <td>0.0</td>\n",
       "      <td>0.0</td>\n",
       "    </tr>\n",
       "    <tr>\n",
       "      <th>1</th>\n",
       "      <td>0.0</td>\n",
       "      <td>0.0</td>\n",
       "      <td>0.0</td>\n",
       "      <td>-0.5</td>\n",
       "      <td>-0.001385</td>\n",
       "      <td>0.25</td>\n",
       "      <td>0.0</td>\n",
       "      <td>0.0</td>\n",
       "      <td>0.0</td>\n",
       "      <td>-0.333333</td>\n",
       "      <td>...</td>\n",
       "      <td>0.0</td>\n",
       "      <td>0.0</td>\n",
       "      <td>0.000576</td>\n",
       "      <td>0.333333</td>\n",
       "      <td>-0.5</td>\n",
       "      <td>-0.000152</td>\n",
       "      <td>0.5</td>\n",
       "      <td>0.0</td>\n",
       "      <td>0.0</td>\n",
       "      <td>0.0</td>\n",
       "    </tr>\n",
       "  </tbody>\n",
       "</table>\n",
       "<p>2 rows × 21 columns</p>\n",
       "</div>"
      ],
      "text/plain": [
       "   wyz_POC_min  wyz_POC_mean  wyz_POC_max  groz_POC_min  groz_POC_mean  \\\n",
       "0          0.0           0.0          0.0          -0.5      -0.001731   \n",
       "1          0.0           0.0          0.0          -0.5      -0.001385   \n",
       "\n",
       "   groz_POC_max  wyk_POC_min  wyk_POC_mean  wyk_POC_max  odcz_POC_min  ...  \\\n",
       "0          0.00          0.0           0.0          0.0      0.000000  ...   \n",
       "1          0.25          0.0           0.0          0.0     -0.333333  ...   \n",
       "\n",
       "   odcz_POC_max  pon_POC_min  pon_POC_mean  pon_POC_max  styg_POC_min  \\\n",
       "0           0.0          0.0      0.000864     0.500000           0.0   \n",
       "1           0.0          0.0      0.000576     0.333333          -0.5   \n",
       "\n",
       "   styg_POC_mean  styg_POC_max  szan_POC_min  szan_POC_mean  szan_POC_max  \n",
       "0       0.000000           0.0           0.0            0.0           0.0  \n",
       "1      -0.000152           0.5           0.0            0.0           0.0  \n",
       "\n",
       "[2 rows x 21 columns]"
      ]
     },
     "execution_count": 5,
     "metadata": {},
     "output_type": "execute_result"
    }
   ],
   "source": [
    "unused_fields = ['vulg_POC_min', 'vulg_POC_mean', 'vulg_POC_max']\n",
    "\n",
    "df_lex_data = df_poc_scores.drop(unused_fields, axis=1)\n",
    "df_lex_data.head(2)"
   ]
  },
  {
   "cell_type": "markdown",
   "metadata": {},
   "source": [
    "### Simple feature ML data"
   ]
  },
  {
   "cell_type": "code",
   "execution_count": 6,
   "metadata": {},
   "outputs": [
    {
     "data": {
      "text/html": [
       "<div>\n",
       "<style scoped>\n",
       "    .dataframe tbody tr th:only-of-type {\n",
       "        vertical-align: middle;\n",
       "    }\n",
       "\n",
       "    .dataframe tbody tr th {\n",
       "        vertical-align: top;\n",
       "    }\n",
       "\n",
       "    .dataframe thead th {\n",
       "        text-align: right;\n",
       "    }\n",
       "</style>\n",
       "<table border=\"1\" class=\"dataframe\">\n",
       "  <thead>\n",
       "    <tr style=\"text-align: right;\">\n",
       "      <th></th>\n",
       "      <th>wyz_POC_min</th>\n",
       "      <th>wyz_POC_mean</th>\n",
       "      <th>wyz_POC_max</th>\n",
       "      <th>groz_POC_min</th>\n",
       "      <th>groz_POC_mean</th>\n",
       "      <th>groz_POC_max</th>\n",
       "      <th>wyk_POC_min</th>\n",
       "      <th>wyk_POC_mean</th>\n",
       "      <th>wyk_POC_max</th>\n",
       "      <th>odcz_POC_min</th>\n",
       "      <th>...</th>\n",
       "      <th>s_neu</th>\n",
       "      <th>s_pos</th>\n",
       "      <th>n_chars</th>\n",
       "      <th>n_sylls</th>\n",
       "      <th>n_words</th>\n",
       "      <th>nu_words</th>\n",
       "      <th>nl_chars</th>\n",
       "      <th>nl_sylls</th>\n",
       "      <th>nl_words</th>\n",
       "      <th>nlu_words</th>\n",
       "    </tr>\n",
       "  </thead>\n",
       "  <tbody>\n",
       "    <tr>\n",
       "      <th>0</th>\n",
       "      <td>0.0</td>\n",
       "      <td>0.0</td>\n",
       "      <td>0.0</td>\n",
       "      <td>-0.5</td>\n",
       "      <td>-0.001731</td>\n",
       "      <td>0.00</td>\n",
       "      <td>0.0</td>\n",
       "      <td>0.0</td>\n",
       "      <td>0.0</td>\n",
       "      <td>0.000000</td>\n",
       "      <td>...</td>\n",
       "      <td>15</td>\n",
       "      <td>0</td>\n",
       "      <td>73</td>\n",
       "      <td>28</td>\n",
       "      <td>13</td>\n",
       "      <td>13</td>\n",
       "      <td>66</td>\n",
       "      <td>23</td>\n",
       "      <td>12</td>\n",
       "      <td>12</td>\n",
       "    </tr>\n",
       "    <tr>\n",
       "      <th>1</th>\n",
       "      <td>0.0</td>\n",
       "      <td>0.0</td>\n",
       "      <td>0.0</td>\n",
       "      <td>-0.5</td>\n",
       "      <td>-0.001385</td>\n",
       "      <td>0.25</td>\n",
       "      <td>0.0</td>\n",
       "      <td>0.0</td>\n",
       "      <td>0.0</td>\n",
       "      <td>-0.333333</td>\n",
       "      <td>...</td>\n",
       "      <td>15</td>\n",
       "      <td>0</td>\n",
       "      <td>81</td>\n",
       "      <td>28</td>\n",
       "      <td>15</td>\n",
       "      <td>13</td>\n",
       "      <td>76</td>\n",
       "      <td>24</td>\n",
       "      <td>17</td>\n",
       "      <td>14</td>\n",
       "    </tr>\n",
       "  </tbody>\n",
       "</table>\n",
       "<p>2 rows × 59 columns</p>\n",
       "</div>"
      ],
      "text/plain": [
       "   wyz_POC_min  wyz_POC_mean  wyz_POC_max  groz_POC_min  groz_POC_mean  \\\n",
       "0          0.0           0.0          0.0          -0.5      -0.001731   \n",
       "1          0.0           0.0          0.0          -0.5      -0.001385   \n",
       "\n",
       "   groz_POC_max  wyk_POC_min  wyk_POC_mean  wyk_POC_max  odcz_POC_min  ...  \\\n",
       "0          0.00          0.0           0.0          0.0      0.000000  ...   \n",
       "1          0.25          0.0           0.0          0.0     -0.333333  ...   \n",
       "\n",
       "   s_neu  s_pos  n_chars  n_sylls  n_words  nu_words  nl_chars  nl_sylls  \\\n",
       "0     15      0       73       28       13        13        66        23   \n",
       "1     15      0       81       28       15        13        76        24   \n",
       "\n",
       "   nl_words  nlu_words  \n",
       "0        12         12  \n",
       "1        17         14  \n",
       "\n",
       "[2 rows x 59 columns]"
      ]
     },
     "execution_count": 6,
     "metadata": {},
     "output_type": "execute_result"
    }
   ],
   "source": [
    "df_simpleML_data = combine_row_wisely([df_poc_scores, df_topic_poc_scores, df_other_scores])\n",
    "df_simpleML_data.head(2)"
   ]
  },
  {
   "cell_type": "markdown",
   "metadata": {},
   "source": [
    "### Lemmatized tweets"
   ]
  },
  {
   "cell_type": "code",
   "execution_count": 7,
   "metadata": {},
   "outputs": [
    {
     "name": "stderr",
     "output_type": "stream",
     "text": [
      "/home/jakub/Dokumenty/venv36/lib/python3.6/site-packages/IPython/core/interactiveshell.py:3072: DtypeWarning: Columns (1,2,5,6,9,11,12,23,36,37) have mixed types.Specify dtype option on import or set low_memory=False.\n",
      "  interactivity=interactivity, compiler=compiler, result=result)\n"
     ]
    },
    {
     "data": {
      "text/html": [
       "<div>\n",
       "<style scoped>\n",
       "    .dataframe tbody tr th:only-of-type {\n",
       "        vertical-align: middle;\n",
       "    }\n",
       "\n",
       "    .dataframe tbody tr th {\n",
       "        vertical-align: top;\n",
       "    }\n",
       "\n",
       "    .dataframe thead th {\n",
       "        text-align: right;\n",
       "    }\n",
       "</style>\n",
       "<table border=\"1\" class=\"dataframe\">\n",
       "  <thead>\n",
       "    <tr style=\"text-align: right;\">\n",
       "      <th></th>\n",
       "      <th>tweet</th>\n",
       "    </tr>\n",
       "  </thead>\n",
       "  <tbody>\n",
       "    <tr>\n",
       "      <th>0</th>\n",
       "      <td>w czwartek muszę poprawić sądy i trybunały</td>\n",
       "    </tr>\n",
       "    <tr>\n",
       "      <th>1</th>\n",
       "      <td>Żale Nałęcza i riposta Macierewicza: Pan był w...</td>\n",
       "    </tr>\n",
       "  </tbody>\n",
       "</table>\n",
       "</div>"
      ],
      "text/plain": [
       "                                               tweet\n",
       "0         w czwartek muszę poprawić sądy i trybunały\n",
       "1  Żale Nałęcza i riposta Macierewicza: Pan był w..."
      ]
     },
     "execution_count": 7,
     "metadata": {},
     "output_type": "execute_result"
    }
   ],
   "source": [
    "df_data = pd.read_csv(ALL_SANITIZED_PATH)[['tweet']]\n",
    "df_data.head(2)"
   ]
  },
  {
   "cell_type": "markdown",
   "metadata": {},
   "source": [
    "## Models loading"
   ]
  },
  {
   "cell_type": "code",
   "execution_count": 8,
   "metadata": {},
   "outputs": [],
   "source": [
    "CLF_CLASSES = [DLVectorClassifier, SimpleMLVectorClassifier, DLVectorClassifier]\n",
    "SHORT_NAMES = ['RNN', 'SGDVC', '1dCNN+GRU-HP']\n",
    "CLF_KWARGS = [\n",
    "    {'short_name': '5-1-0', 'k_folds': 5, 'vec_class': TextOwnTrainedFTVectorizer, 'nn_class': RecurrentNet,\n",
    "     'nn_type': 'recurrent_w2', 'vec_params': dict({'model_type': 's', 'short_name': 'super'}),\n",
    "     'nn_params': dict({'n_layers': 5, 'drop_prob': 0.1, 'bidirectional': False})},\n",
    "    {'k_folds': 5, 'short_name': 'SGD-l2',\n",
    "     'vec_class': TextOwnTrainedFTVectorizer, 'clf_class': SGDClassifier,\n",
    "     'vec_kwargs': {'length': 300, 'model_type': 's', 'short_name': 'super', 'verbose': 0},\n",
    "     **dict({'penalty': 'l2', 'class_weight': 'balanced'})},\n",
    "    {'short_name': '1dcgru_adamw-ams-rop', 'k_folds': 5, 'vec_class': TextOwnTrainedFTVectorizer, 'nn_class': Conv1dRecurrentNet,\n",
    "     'nn_type': 'hparams_conv1d_w2',\n",
    "     'nn_hparams': dict({'_epochs': 50, '_optim': torch.optim.AdamW, '_optim_params': dict({'amsgrad': True}),\n",
    "                         '_sched': torch.optim.lr_scheduler.ReduceLROnPlateau,\n",
    "                         '_sched_params': dict({'patience': 5, 'factor': 0.97}),}),\n",
    "     'vec_params': dict({'model_type': 's', 'short_name': 'super'}), 'nn_params': dict({'nn_type': 'gru', 'out_channels': 8, 'hidden_size': 100, 'bidirectional': True})},\n",
    "]"
   ]
  },
  {
   "cell_type": "code",
   "execution_count": 9,
   "metadata": {},
   "outputs": [
    {
     "data": {
      "application/vnd.jupyter.widget-view+json": {
       "model_id": "",
       "version_major": 2,
       "version_minor": 0
      },
      "text/plain": [
       "HBox(children=(FloatProgress(value=0.0, max=3.0), HTML(value='')))"
      ]
     },
     "metadata": {},
     "output_type": "display_data"
    },
    {
     "name": "stderr",
     "output_type": "stream",
     "text": [
      "Warning : `load_model` does not return WordVectorModel or SupervisedModel any more, but a `FastText` object which is very similar.\n"
     ]
    },
    {
     "data": {
      "application/vnd.jupyter.widget-view+json": {
       "model_id": "",
       "version_major": 2,
       "version_minor": 0
      },
      "text/plain": [
       "HBox(children=(FloatProgress(value=0.0, max=7647.0), HTML(value='')))"
      ]
     },
     "metadata": {},
     "output_type": "display_data"
    },
    {
     "name": "stderr",
     "output_type": "stream",
     "text": [
      "Warning : `load_model` does not return WordVectorModel or SupervisedModel any more, but a `FastText` object which is very similar.\n",
      "/home/jakub/Dokumenty/venv36/lib/python3.6/site-packages/torch/nn/modules/rnn.py:60: UserWarning: dropout option adds dropout after all but last recurrent layer, so non-zero dropout expects num_layers greater than 1, but got dropout=0.3 and num_layers=1\n",
      "  \"num_layers={}\".format(dropout, num_layers))\n",
      "Warning : `load_model` does not return WordVectorModel or SupervisedModel any more, but a `FastText` object which is very similar.\n"
     ]
    },
    {
     "data": {
      "application/vnd.jupyter.widget-view+json": {
       "model_id": "",
       "version_major": 2,
       "version_minor": 0
      },
      "text/plain": [
       "HBox(children=(FloatProgress(value=0.0, max=7647.0), HTML(value='')))"
      ]
     },
     "metadata": {},
     "output_type": "display_data"
    },
    {
     "name": "stdout",
     "output_type": "stream",
     "text": [
      "\r"
     ]
    }
   ],
   "source": [
    "for clf_class, short_name, clf_kwargs in tqdm(zip(CLF_CLASSES, SHORT_NAMES, CLF_KWARGS),\n",
    "                                              total=len(SHORT_NAMES), leave=False):\n",
    "    if short_name == 'Lexical':\n",
    "        X_data = df_lex_data\n",
    "    elif short_name == 'LRFC':\n",
    "        X_data = df_simpleML_data\n",
    "    else:\n",
    "        X_data = df_data\n",
    "        \n",
    "    clf = clf_class(**clf_kwargs)\n",
    "    clf.load()\n",
    "    \n",
    "    y_pred = clf.predict(X_data)\n",
    "    \n",
    "    with open(PREDICTION_RESULTS_DIR.replace('{}', f'predictions_{short_name}'), 'w') as f:\n",
    "        csv.writer(f).writerow(LABELS)\n",
    "        for y_p in y_pred:\n",
    "            csv.writer(f).writerow(y_p)"
   ]
  }
 ],
 "metadata": {
  "kernelspec": {
   "display_name": "Python 3",
   "language": "python",
   "name": "python3"
  },
  "language_info": {
   "codemirror_mode": {
    "name": "ipython",
    "version": 3
   },
   "file_extension": ".py",
   "mimetype": "text/x-python",
   "name": "python",
   "nbconvert_exporter": "python",
   "pygments_lexer": "ipython3",
   "version": "3.6.13"
  }
 },
 "nbformat": 4,
 "nbformat_minor": 4
}
